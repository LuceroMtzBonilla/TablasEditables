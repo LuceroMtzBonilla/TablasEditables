{
 "cells": [
  {
   "cell_type": "code",
   "execution_count": 4,
   "metadata": {},
   "outputs": [
    {
     "name": "stdout",
     "output_type": "stream",
     "text": [
      " * Serving Flask app '__main__' (lazy loading)\n",
      " * Environment: production\n",
      "\u001b[31m   WARNING: This is a development server. Do not use it in a production deployment.\u001b[0m\n",
      "\u001b[2m   Use a production WSGI server instead.\u001b[0m\n",
      " * Debug mode: off\n"
     ]
    },
    {
     "name": "stderr",
     "output_type": "stream",
     "text": [
      " * Running on http://127.0.0.1:5000/ (Press CTRL+C to quit)\n",
      "127.0.0.1 - - [18/May/2023 19:07:14] \"GET / HTTP/1.1\" 200 -\n",
      "127.0.0.1 - - [18/May/2023 19:07:18] \"GET /ruleta HTTP/1.1\" 200 -\n",
      "127.0.0.1 - - [18/May/2023 19:07:21] \"GET /select_bufete?location=Puebla HTTP/1.1\" 200 -\n"
     ]
    },
    {
     "name": "stdout",
     "output_type": "stream",
     "text": [
      "{'nombre': 'LexGlobal Consultores', 'ubicacion': 'Puebla', 'juiciosAsignados': 1}\n"
     ]
    },
    {
     "name": "stderr",
     "output_type": "stream",
     "text": [
      "127.0.0.1 - - [18/May/2023 19:07:26] \"GET /select_bufete?location=Puebla HTTP/1.1\" 200 -\n"
     ]
    },
    {
     "name": "stdout",
     "output_type": "stream",
     "text": [
      "{'nombre': 'Abogados Unidos', 'ubicacion': 'Puebla', 'juiciosAsignados': 1}\n"
     ]
    },
    {
     "name": "stderr",
     "output_type": "stream",
     "text": [
      "127.0.0.1 - - [18/May/2023 19:07:29] \"GET /select_bufete?location=Puebla HTTP/1.1\" 200 -\n"
     ]
    },
    {
     "name": "stdout",
     "output_type": "stream",
     "text": [
      "{'nombre': 'Defensores Legales Puebla', 'ubicacion': 'Puebla', 'juiciosAsignados': 1}\n"
     ]
    },
    {
     "name": "stderr",
     "output_type": "stream",
     "text": [
      "127.0.0.1 - - [18/May/2023 19:08:30] \"GET /select_bufete?location=Puebla HTTP/1.1\" 200 -\n"
     ]
    },
    {
     "name": "stdout",
     "output_type": "stream",
     "text": [
      "{'nombre': 'Abogados Unidos', 'ubicacion': 'Puebla', 'juiciosAsignados': 2}\n"
     ]
    },
    {
     "name": "stderr",
     "output_type": "stream",
     "text": [
      "127.0.0.1 - - [18/May/2023 19:08:31] \"GET /select_bufete?location=Puebla HTTP/1.1\" 200 -\n"
     ]
    },
    {
     "name": "stdout",
     "output_type": "stream",
     "text": [
      "{'nombre': 'Defensores Legales Puebla', 'ubicacion': 'Puebla', 'juiciosAsignados': 2}\n"
     ]
    },
    {
     "name": "stderr",
     "output_type": "stream",
     "text": [
      "127.0.0.1 - - [18/May/2023 19:08:31] \"GET /select_bufete?location=Puebla HTTP/1.1\" 200 -\n"
     ]
    },
    {
     "name": "stdout",
     "output_type": "stream",
     "text": [
      "{'nombre': 'LexGlobal Consultores', 'ubicacion': 'Puebla', 'juiciosAsignados': 2}\n"
     ]
    },
    {
     "name": "stderr",
     "output_type": "stream",
     "text": [
      "127.0.0.1 - - [18/May/2023 19:08:32] \"GET /select_bufete?location=Puebla HTTP/1.1\" 200 -\n"
     ]
    },
    {
     "name": "stdout",
     "output_type": "stream",
     "text": [
      "{'nombre': 'Abogados Unidos', 'ubicacion': 'Puebla', 'juiciosAsignados': 3}\n"
     ]
    },
    {
     "name": "stderr",
     "output_type": "stream",
     "text": [
      "127.0.0.1 - - [18/May/2023 19:08:32] \"GET /select_bufete?location=Puebla HTTP/1.1\" 200 -\n"
     ]
    },
    {
     "name": "stdout",
     "output_type": "stream",
     "text": [
      "{'nombre': 'LexGlobal Consultores', 'ubicacion': 'Puebla', 'juiciosAsignados': 3}\n"
     ]
    },
    {
     "name": "stderr",
     "output_type": "stream",
     "text": [
      "127.0.0.1 - - [18/May/2023 19:08:33] \"GET /select_bufete?location=Puebla HTTP/1.1\" 200 -\n"
     ]
    },
    {
     "name": "stdout",
     "output_type": "stream",
     "text": [
      "{'nombre': 'Defensores Legales Puebla', 'ubicacion': 'Puebla', 'juiciosAsignados': 3}\n"
     ]
    },
    {
     "name": "stderr",
     "output_type": "stream",
     "text": [
      "127.0.0.1 - - [18/May/2023 19:08:33] \"GET /select_bufete?location=Puebla HTTP/1.1\" 200 -\n",
      "127.0.0.1 - - [18/May/2023 19:08:33] \"GET /select_bufete?location=Puebla HTTP/1.1\" 200 -\n"
     ]
    },
    {
     "name": "stdout",
     "output_type": "stream",
     "text": [
      "{'nombre': 'Abogados Unidos', 'ubicacion': 'Puebla', 'juiciosAsignados': 4}\n",
      "{'nombre': 'Defensores Legales Puebla', 'ubicacion': 'Puebla', 'juiciosAsignados': 4}\n"
     ]
    },
    {
     "name": "stderr",
     "output_type": "stream",
     "text": [
      "127.0.0.1 - - [18/May/2023 19:08:34] \"GET /select_bufete?location=Puebla HTTP/1.1\" 200 -\n"
     ]
    },
    {
     "name": "stdout",
     "output_type": "stream",
     "text": [
      "{'nombre': 'LexGlobal Consultores', 'ubicacion': 'Puebla', 'juiciosAsignados': 4}\n"
     ]
    },
    {
     "name": "stderr",
     "output_type": "stream",
     "text": [
      "127.0.0.1 - - [18/May/2023 19:08:34] \"GET /select_bufete?location=Puebla HTTP/1.1\" 200 -\n",
      "127.0.0.1 - - [18/May/2023 19:08:34] \"GET /select_bufete?location=Puebla HTTP/1.1\" 200 -\n"
     ]
    },
    {
     "name": "stdout",
     "output_type": "stream",
     "text": [
      "{'nombre': 'LexGlobal Consultores', 'ubicacion': 'Puebla', 'juiciosAsignados': 5}\n",
      "{'nombre': 'Defensores Legales Puebla', 'ubicacion': 'Puebla', 'juiciosAsignados': 5}\n"
     ]
    },
    {
     "name": "stderr",
     "output_type": "stream",
     "text": [
      "127.0.0.1 - - [18/May/2023 19:08:34] \"GET /select_bufete?location=Puebla HTTP/1.1\" 200 -\n"
     ]
    },
    {
     "name": "stdout",
     "output_type": "stream",
     "text": [
      "{'nombre': 'Abogados Unidos', 'ubicacion': 'Puebla', 'juiciosAsignados': 5}\n"
     ]
    }
   ],
   "source": [
    "from flask import Flask, render_template,jsonify,request, url_for\n",
    "import pandas as pd\n",
    "import plotly.express as px\n",
    "import os\n",
    "import random\n",
    "\n",
    "app = Flask(__name__)\n",
    "\n",
    "df1 = pd.DataFrame({\n",
    "    'Nombre': ['Reservas0', 'Reservas1', 'Reservas2'],\n",
    "    'Descripción': [\"LOREM IPSUM\", \"LOREM IPSUM\", \"LOREM IPSUM\"],\n",
    "    'Staff': [3, 5, 2],\n",
    "    'Senior': [3, 3, 0],\n",
    "    'Manager': [1, 1, 1],\n",
    "    'Senior Manager': [1,0, 0],\n",
    "    'Socio': [0, 1, 0]\n",
    "})\n",
    "\n",
    "df12 = pd.DataFrame({\n",
    "    'Nombre': ['Reservas0', 'Reservas1', 'Reservas2'],\n",
    "    'Descripción': [\"LOREM IPSUM\", \"LOREM IPSUM\", \"LOREM IPSUM\"],\n",
    "    'Staff': [3, 5, 2],\n",
    "    'Senior': [3, 3, 0],\n",
    "    'Manager': [1, 1, 1],\n",
    "    'Senior Manager': [1,0, 0],\n",
    "    'Socio': [0, 1, 0]\n",
    "})\n",
    "\n",
    "df13 = pd.DataFrame({\n",
    "    'Nombre': ['Reservas0', 'Reservas1', 'Reservas2'],\n",
    "    'Descripción': [\"LOREM IPSUM\", \"LOREM IPSUM\", \"LOREM IPSUM\"],\n",
    "    'Staff': [3, 5, 2],\n",
    "    'Senior': [3, 3, 0],\n",
    "    'Manager': [1, 1, 1],\n",
    "    'Senior Manager': [1,0, 0],\n",
    "    'Socio': [0, 1, 0]\n",
    "})\n",
    "\n",
    "df2 = pd.DataFrame({\n",
    "    'Staff': [1],\n",
    "    'Senior': [3],\n",
    "    'Manager': [5],\n",
    "    'Senior Manager': [10],\n",
    "    'Socio': [15]\n",
    "})\n",
    "\n",
    "df22 = pd.DataFrame({\n",
    "    'Staff': [1],\n",
    "    'Senior': [3],\n",
    "    'Manager': [5],\n",
    "    'Senior Manager': [10],\n",
    "    'Socio': [15]\n",
    "})\n",
    "\n",
    "df23 = pd.DataFrame({\n",
    "    'Staff': [1],\n",
    "    'Senior': [3],\n",
    "    'Manager': [5],\n",
    "    'Senior Manager': [10],\n",
    "    'Socio': [15]\n",
    "})\n",
    "\n",
    "df3 = pd.DataFrame({\n",
    "    'Costo': [350]\n",
    "})\n",
    "\n",
    "df32 = pd.DataFrame({\n",
    "    'Costo': [350]\n",
    "})\n",
    "\n",
    "df33 = pd.DataFrame({\n",
    "    'Costo': [350]\n",
    "})\n",
    "\n",
    "df4 = pd.concat([df1[['Nombre','Descripción']],(df1[['Staff','Senior','Manager','Senior Manager','Socio']].multiply(df2.values))*int(df3.loc[0])],axis=1)\n",
    "\n",
    "df42 = pd.concat([df12[['Nombre','Descripción']],(df12[['Staff','Senior','Manager','Senior Manager','Socio']].multiply(df22.values))*int(df32.loc[0])],axis=1)\n",
    "\n",
    "df43 = pd.concat([df13[['Nombre','Descripción']],(df13[['Staff','Senior','Manager','Senior Manager','Socio']].multiply(df23.values))*int(df33.loc[0])],axis=1)\n",
    "\n",
    "dataframes = [df1,df2,df3,df4]\n",
    "titles = ['Servicios','Rangos','Costo staff','Presupuesto']\n",
    "\n",
    "dataframes2 = [df12,df22,df32,df42]\n",
    "titles2 = ['Servicios','Rangos','Costo staff','Presupuesto']\n",
    "\n",
    "dataframes3 = [df13,df23,df33,df43]\n",
    "titles3 = ['Servicios','Rangos','Costo staff','Presupuesto']\n",
    "\n",
    "@app.route('/')\n",
    "@app.route('/index')\n",
    "def index():\n",
    "    return render_template('index.html', title='Inicio')\n",
    "\n",
    "@app.route('/proyectos')\n",
    "def proyectos():\n",
    "    return render_template('proyectos.html')\n",
    "\n",
    "@app.route('/tables1')\n",
    "def tables1():\n",
    "    return render_template('tables1.html', dataframes=dataframes,titles=titles)\n",
    "\n",
    "@app.route('/tables2')\n",
    "def tables2():\n",
    "    return render_template('tables2.html', dataframes2=dataframes2,titles=titles)\n",
    "\n",
    "@app.route('/tables3')\n",
    "def tables3():\n",
    "    return render_template('tables3.html', dataframes3=dataframes3,titles=titles)\n",
    "\n",
    "@app.route('/update_cell', methods=['POST'])\n",
    "def update_dataframe():\n",
    "    data = request.get_json()\n",
    "    row_index = int(data['row_index'])\n",
    "    column_name = data['column_index']\n",
    "    new_value = data['value']\n",
    "    df_index = int(data['table_index'])\n",
    "    df = dataframes[df_index]\n",
    "    if row_index >= df.shape[0]:\n",
    "        new_row = pd.Series({'Nombre': '', 'Descripción': '', 'Staff': 0, 'Senior': 0, 'Manager': 0, 'Senior Manager': 0, 'Socio': 0})\n",
    "        df = df.append(new_row, ignore_index=True)\n",
    "    df.iloc[row_index, column_name] = int(new_value)\n",
    "    dataframes[df_index] = df\n",
    "    response_data = df.to_json(orient='records')\n",
    "    return jsonify({'status': 'success', 'data': response_data})\n",
    "\n",
    "@app.route('/update_cell2', methods=['POST'])\n",
    "def update_dataframe2():\n",
    "    data = request.get_json()\n",
    "    row_index = int(data['row_index'])\n",
    "    column_name = data['column_index']\n",
    "    new_value = data['value']\n",
    "    df2_index = int(data['table_index'])\n",
    "    df2 = dataframes2[df2_index]\n",
    "    if row_index >= df2.shape[0]:\n",
    "        new_row = pd.Series({'Nombre': '', 'Descripción': '', 'Staff': 0, 'Senior': 0, 'Manager': 0, 'Senior Manager': 0, 'Socio': 0})\n",
    "        df2 = df2.append(new_row, ignore_index=True)\n",
    "    df2.iloc[row_index, column_name] = int(new_value)\n",
    "    dataframes2[df2_index] = df2\n",
    "    response_data = df2.to_json(orient='records')\n",
    "    return jsonify({'status': 'success', 'data': response_data})\n",
    "\n",
    "@app.route('/update_cell3', methods=['POST'])\n",
    "def update_dataframe3():\n",
    "    data = request.get_json()\n",
    "    row_index = int(data['row_index'])\n",
    "    column_name = data['column_index']\n",
    "    new_value = data['value']\n",
    "    df3_index = int(data['table_index'])\n",
    "    df3 = dataframes3[df3_index]\n",
    "    if row_index >= df3.shape[0]:\n",
    "        new_row = pd.Series({'Nombre': '', 'Descripción': '', 'Staff': 0, 'Senior': 0, 'Manager': 0, 'Senior Manager': 0, 'Socio': 0})\n",
    "        df3 = df3.append(new_row, ignore_index=True)\n",
    "    df3.iloc[row_index, column_name] = int(new_value)\n",
    "    dataframes[df3_index] = df3\n",
    "    response_data = df3.to_json(orient='records')\n",
    "    return jsonify({'status': 'success', 'data': response_data})\n",
    "\n",
    "@app.route('/recalculate_df4', methods=['POST'])\n",
    "def recalculate_df4():\n",
    "    global dataframes\n",
    "    dataframes[3] = pd.concat([dataframes[0][['Nombre','Descripción']],(dataframes[0][['Staff','Senior','Manager','Senior Manager','Socio']].multiply(dataframes[1].values))*int(dataframes[2].loc[0])],axis=1)\n",
    "    response_data = dataframes[3].to_json(orient='records')\n",
    "    return jsonify({'status': 'success', 'data': response_data})\n",
    "\n",
    "@app.route('/recalculate_df42', methods=['POST'])\n",
    "def recalculate_df42():\n",
    "    global dataframes2\n",
    "    dataframes2[3] = pd.concat([dataframes2[0][['Nombre','Descripción']],(dataframes2[0][['Staff','Senior','Manager','Senior Manager','Socio']].multiply(dataframes2[1].values))*int(dataframes2[2].loc[0])],axis=1)\n",
    "    response_data = dataframes2[3].to_json(orient='records')\n",
    "    return jsonify({'status': 'success', 'data': response_data})\n",
    "\n",
    "@app.route('/recalculate_df43', methods=['POST'])\n",
    "def recalculate_df43():\n",
    "    global dataframes3\n",
    "    dataframes3[3] = pd.concat([dataframes3[0][['Nombre','Descripción']],(dataframes3[0][['Staff','Senior','Manager','Senior Manager','Socio']].multiply(dataframes3[1].values))*int(dataframes3[2].loc[0])],axis=1)\n",
    "    response_data = dataframes3[3].to_json(orient='records')\n",
    "    return jsonify({'status': 'success', 'data': response_data})\n",
    "\n",
    "@app.route('/update_df1', methods=['POST'])\n",
    "def update_df1():\n",
    "    data = request.get_json()\n",
    "    data_dict = {\n",
    "    'Nombre': [str(data[-1][0])],\n",
    "    'Descripción': [str(data[-1][1])],\n",
    "    'Staff': [int(data[-1][2])],\n",
    "    'Senior': [int(data[-1][3])],\n",
    "    'Manager': [int(data[-1][4])],\n",
    "    'Senior Manager': [int(data[-1][5])],\n",
    "    'Socio': [int(data[-1][6])]\n",
    "    }\n",
    "    new_row = pd.DataFrame(data_dict)\n",
    "    dataframes[3] = pd.concat([dataframes[3], new_row], axis=0)\n",
    "    dataframes[3] = dataframes[3].reset_index(drop=True)\n",
    "    dataframes[0] = pd.concat([dataframes[0], new_row], axis=0)\n",
    "    response_data = dataframes[3].to_json(orient='records')\n",
    "    return jsonify({'status': 'success', 'data': response_data})\n",
    "\n",
    "@app.route('/update_df12', methods=['POST'])\n",
    "def update_df12():\n",
    "    data = request.get_json()\n",
    "    data_dict = {\n",
    "    'Nombre': [str(data[-1][0])],\n",
    "    'Descripción': [str(data[-1][1])],\n",
    "    'Staff': [int(data[-1][2])],\n",
    "    'Senior': [int(data[-1][3])],\n",
    "    'Manager': [int(data[-1][4])],\n",
    "    'Senior Manager': [int(data[-1][5])],\n",
    "    'Socio': [int(data[-1][6])]\n",
    "    }\n",
    "    new_row = pd.DataFrame2(data_dict)\n",
    "    dataframes2[3] = pd.concat([dataframes2[3], new_row], axis=0)\n",
    "    dataframes2[3] = dataframes2[3].reset_index(drop=True)\n",
    "    dataframes2[0] = pd.concat([dataframes2[0], new_row], axis=0)\n",
    "    response_data = dataframes2[3].to_json(orient='records')\n",
    "    return jsonify({'status': 'success', 'data': response_data})\n",
    "\n",
    "@app.route('/update_df13', methods=['POST'])\n",
    "def update_df13():\n",
    "    data = request.get_json()\n",
    "    data_dict = {\n",
    "    'Nombre': [str(data[-1][0])],\n",
    "    'Descripción': [str(data[-1][1])],\n",
    "    'Staff': [int(data[-1][2])],\n",
    "    'Senior': [int(data[-1][3])],\n",
    "    'Manager': [int(data[-1][4])],\n",
    "    'Senior Manager': [int(data[-1][5])],\n",
    "    'Socio': [int(data[-1][6])]\n",
    "    }\n",
    "    new_row = pd.DataFrame3(data_dict)\n",
    "    dataframes3[3] = pd.concat([dataframes3[3], new_row], axis=0)\n",
    "    dataframes3[3] = dataframes3[3].reset_index(drop=True)\n",
    "    dataframes3[0] = pd.concat([dataframes3[0], new_row], axis=0)\n",
    "    response_data = dataframes3[3].to_json(orient='records')\n",
    "    return jsonify({'status': 'success', 'data': response_data})\n",
    "\n",
    "litigios = []\n",
    "\n",
    "bufetes = [\n",
    "    { 'nombre': 'LexGlobal Consultores', 'ubicacion': 'Puebla', 'juiciosAsignados': 0 },\n",
    "    { 'nombre': 'Justicia y Aliados', 'ubicacion': 'México', 'juiciosAsignados': 0 },\n",
    "    { 'nombre': 'Soluciones Legales Integrales', 'ubicacion': 'Mérida', 'juiciosAsignados': 0 },\n",
    "    { 'nombre': 'Abogados Unidos', 'ubicacion': 'Puebla', 'juiciosAsignados': 0 },\n",
    "    { 'nombre': 'Firma Jurídica Excelencia', 'ubicacion': 'México', 'juiciosAsignados': 0 },\n",
    "    { 'nombre': 'Defensores Legales Puebla', 'ubicacion': 'Puebla', 'juiciosAsignados': 0 }\n",
    "]\n",
    "\n",
    "@app.route('/ruleta', methods=['POST','GET'])\n",
    "def ruleta():\n",
    "    bufete_seleccionado = None\n",
    "    litigios_por_bufete = pd.DataFrame()\n",
    "    acumulado_por_bufete = pd.DataFrame()\n",
    "    if request.method == 'POST':\n",
    "        location = request.form['location']\n",
    "        litigio_id = request.form['litigio_id']\n",
    "        bufetes_filtrados = [bufete for bufete in bufetes if bufete['ubicacion'] == location]\n",
    "        min_assigned_litigios = min([bufete['juiciosAsignados'] for bufete in bufetes_filtrados])\n",
    "        bufetes_min_assigned = [bufete for bufete in bufetes_filtrados if bufete['juiciosAsignados'] == min_assigned_litigios]\n",
    "        bufete_seleccionado = random.choice(bufetes_min_assigned)\n",
    "        litigios.append({\n",
    "            'id': litigio_id,\n",
    "            'estado': location,\n",
    "            'bufete': bufete_seleccionado['nombre']\n",
    "        })\n",
    "        bufete_seleccionado['juiciosAsignados'] += 1\n",
    "        litigios_por_bufete = pd.DataFrame(litigios).groupby(['bufete', 'estado']).agg({'id': 'count'}).rename(columns={'id': 'total_juicios_asignados'})\n",
    "        acumulado_por_bufete = pd.DataFrame([{'bufete': bufete['nombre'], 'total_juicios_asignados': bufete['juiciosAsignados']} for bufete in bufetes])\n",
    "    return render_template('litigio.html', bufete=bufete_seleccionado, litigios_por_bufete=litigios_por_bufete.to_dict(), acumulado_por_bufete=acumulado_por_bufete.to_dict())\n",
    "\n",
    "@app.route('/select_bufete', methods=['GET'])\n",
    "def select_bufete():\n",
    "    location = request.args.get('location')\n",
    "    bufetes_filtrados = [bufete for bufete in bufetes if bufete['ubicacion'] == location]\n",
    "    min_assigned_litigios = min([bufete['juiciosAsignados'] for bufete in bufetes_filtrados])\n",
    "    bufetes_min_assigned = [bufete for bufete in bufetes_filtrados if bufete['juiciosAsignados'] == min_assigned_litigios]\n",
    "    bufete_seleccionado = random.choice(bufetes_min_assigned)\n",
    "    bufete_seleccionado['juiciosAsignados'] += 1\n",
    "    print(bufete_seleccionado)\n",
    "    return jsonify(bufete_seleccionado)\n",
    "\n",
    "sucursales_data = {\n",
    "  'Mexico': {\n",
    "    'Justicia y Aliados': ['9:00am', '10:00am', '11:00am'],\n",
    "    'Firma Juridica Excelencia': ['10:00am', '11:00am', '12:00pm']\n",
    "  },\n",
    "  'Puebla': {\n",
    "    'LexGlobal Consultores': ['9:00am', '10:00am', '11:00am'],\n",
    "    'Abogados Unidos': ['10:00am', '11:00am', '12:00pm'],\n",
    "    'Defensores Legales Puebla': ['10:00am', '11:00am', '12:00pm']\n",
    "  },\n",
    "  'Merida': {\n",
    "    'Soluciones Legales Integrales': ['9:00am', '10:00am', '11:00am']\n",
    "  }\n",
    "}\n",
    "\n",
    "@app.route('/sucursales/<ubicacion>')\n",
    "def sucursales(ubicacion):\n",
    "    if ubicacion in sucursales_data:\n",
    "        sucursales = list(sucursales_data[ubicacion].keys())\n",
    "        url_horarios = url_for('horarios', ubicacion=ubicacion, sucursal=sucursales[0])\n",
    "        return jsonify({'sucursales': sucursales, 'url_horarios': url_horarios})\n",
    "    else:\n",
    "        return jsonify({'sucursales': []})\n",
    "\n",
    "@app.route('/horarios/<ubicacion>/<sucursal>')\n",
    "def horarios(ubicacion, sucursal):\n",
    "    if ubicacion in sucursales_data and sucursal in sucursales_data[ubicacion]:\n",
    "        horarios = sucursales_data[ubicacion][sucursal]\n",
    "        return jsonify({'horarios': horarios})\n",
    "    else:\n",
    "        return jsonify({'horarios': []})\n",
    "\n",
    "@app.route('/filtros')\n",
    "def filtros():\n",
    "    return render_template('filtros.html')\n",
    "\n",
    "@app.route('/litigios', methods=['GET'])\n",
    "def get_litigios():\n",
    "    return jsonify(litigios)\n",
    "\n",
    "@app.route('/litigios', methods=['POST'])\n",
    "def add_litigio():\n",
    "    data = request.get_json()\n",
    "    litigios.append(data)\n",
    "    return jsonify(litigios)\n",
    "\n",
    "@app.route('/litigios/<int:litigio_id>/asignar', methods=['PUT'])\n",
    "def asignar_litigio(litigio_id):\n",
    "    data = request.get_json()\n",
    "    estado = data['estado']\n",
    "    bufete = data['bufete']\n",
    "    for litigio in litigios:\n",
    "        if litigio['id'] == litigio_id:\n",
    "            litigio['estado'] = estado\n",
    "            litigio['bufete'] = bufete\n",
    "            for b in bufetes:\n",
    "                if b['nombre'] == bufete:\n",
    "                    b['juiciosAsignados'] += 1\n",
    "            return jsonify(litigio)\n",
    "    return jsonify({'message': 'Litigio no encontrado'})\n",
    "\n",
    "@app.route('/bufetes', methods=['GET'])\n",
    "def get_bufetes():\n",
    "    return jsonify(bufetes)\n",
    "\n",
    "@app.route('/bufetes/<bufete_nombre>/acumulado', methods=['GET'])\n",
    "def get_acumulado(bufete_nombre):\n",
    "    total_juicios = 0\n",
    "    for b in bufetes:\n",
    "        if b['nombre'] == bufete_nombre:\n",
    "            total_juicios = b['juiciosAsignados']\n",
    "    return jsonify({'bufete': bufete_nombre, 'totalJuicios': total_juicios})\n",
    "\n",
    "if __name__ == '__main__':\n",
    "    app.run(debug=False)"
   ]
  },
  {
   "cell_type": "code",
   "execution_count": null,
   "metadata": {},
   "outputs": [],
   "source": []
  }
 ],
 "metadata": {
  "kernelspec": {
   "display_name": "flask",
   "language": "python",
   "name": "python3"
  },
  "language_info": {
   "codemirror_mode": {
    "name": "ipython",
    "version": 3
   },
   "file_extension": ".py",
   "mimetype": "text/x-python",
   "name": "python",
   "nbconvert_exporter": "python",
   "pygments_lexer": "ipython3",
   "version": "3.9.16"
  },
  "orig_nbformat": 4,
  "vscode": {
   "interpreter": {
    "hash": "a5083be1b454ee1d48dc21ebed38a88001d6fe0d1a9ee40d8b13f473bdf1209b"
   }
  }
 },
 "nbformat": 4,
 "nbformat_minor": 2
}
