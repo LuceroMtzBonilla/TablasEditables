{
 "cells": [
  {
   "cell_type": "code",
   "execution_count": 3,
   "metadata": {},
   "outputs": [
    {
     "name": "stdout",
     "output_type": "stream",
     "text": [
      " * Serving Flask app \"__main__\" (lazy loading)\n",
      " * Environment: production\n",
      "\u001b[31m   WARNING: This is a development server. Do not use it in a production deployment.\u001b[0m\n",
      "\u001b[2m   Use a production WSGI server instead.\u001b[0m\n",
      " * Debug mode: off\n"
     ]
    },
    {
     "name": "stderr",
     "output_type": "stream",
     "text": [
      " * Running on http://127.0.0.1:5000/ (Press CTRL+C to quit)\n",
      "127.0.0.1 - - [05/May/2023 20:25:49] \"GET / HTTP/1.1\" 200 -\n",
      "127.0.0.1 - - [05/May/2023 20:25:56] \"POST /resultados HTTP/1.1\" 200 -\n",
      "127.0.0.1 - - [05/May/2023 20:26:07] \"GET / HTTP/1.1\" 200 -\n",
      "127.0.0.1 - - [05/May/2023 20:26:14] \"POST /resultados HTTP/1.1\" 200 -\n",
      "127.0.0.1 - - [05/May/2023 20:26:17] \"GET / HTTP/1.1\" 200 -\n"
     ]
    }
   ],
   "source": [
    "from flask import Flask, render_template, request\n",
    "\n",
    "app = Flask(__name__)\n",
    "\n",
    "# Lista de frutas\n",
    "frutas = [\n",
    "    {\"nombre\": \"manzanas\", \"tipo\": \"fruta\", \"precio\": 0.75},\n",
    "    {\"nombre\": \"naranjas\", \"tipo\": \"fruta\", \"precio\": 0.85},\n",
    "    {\"nombre\": \"plátanos\", \"tipo\": \"fruta\", \"precio\": 0.65},\n",
    "    {\"nombre\": \"zanahorias\", \"tipo\": \"verdura\", \"precio\": 0.55},\n",
    "    {\"nombre\": \"tomates\", \"tipo\": \"verdura\", \"precio\": 1.25},\n",
    "    {\"nombre\": \"cebollas\", \"tipo\": \"verdura\", \"precio\": 0.35}\n",
    "]\n",
    "\n",
    "# Página principal\n",
    "@app.route(\"/\")\n",
    "def index():\n",
    "    tipos_fruta = set([fruta[\"tipo\"] for fruta in frutas])\n",
    "    precios = set([fruta[\"precio\"] for fruta in frutas])\n",
    "    return render_template(\"index3.html\", frutas=frutas, tipos_fruta=tipos_fruta, precios=precios)\n",
    "\n",
    "# Página de resultados\n",
    "@app.route(\"/resultados\", methods=[\"POST\"])\n",
    "def resultados():\n",
    "    # Obtener los filtros seleccionados\n",
    "    tipo_seleccionado = request.form.get(\"tipo\")\n",
    "    precio_seleccionado = request.form.get(\"precio\")\n",
    "\n",
    "    # Filtrar la lista de frutas según los filtros seleccionados\n",
    "    frutas_filtradas = frutas\n",
    "    if tipo_seleccionado:\n",
    "        frutas_filtradas = [fruta for fruta in frutas_filtradas if fruta[\"tipo\"] == tipo_seleccionado]\n",
    "    if precio_seleccionado:\n",
    "        frutas_filtradas = [fruta for fruta in frutas_filtradas if fruta[\"precio\"] == float(precio_seleccionado)]\n",
    "\n",
    "    return render_template(\"resultados.html\", frutas_filtradas=frutas_filtradas)\n",
    "\n",
    "if __name__ == \"__main__\":\n",
    "    app.run(debug=False)\n"
   ]
  },
  {
   "cell_type": "code",
   "execution_count": null,
   "metadata": {},
   "outputs": [],
   "source": []
  }
 ],
 "metadata": {
  "kernelspec": {
   "display_name": "base",
   "language": "python",
   "name": "python3"
  },
  "language_info": {
   "codemirror_mode": {
    "name": "ipython",
    "version": 3
   },
   "file_extension": ".py",
   "mimetype": "text/x-python",
   "name": "python",
   "nbconvert_exporter": "python",
   "pygments_lexer": "ipython3",
   "version": "3.9.13"
  },
  "orig_nbformat": 4
 },
 "nbformat": 4,
 "nbformat_minor": 2
}
